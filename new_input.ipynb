{
 "cells": [
  {
   "cell_type": "code",
   "execution_count": 1,
   "metadata": {},
   "outputs": [],
   "source": [
    "import pysam as ps\n",
    "import numpy as np\n",
    "import operator\n",
    "import random\n",
    "import timeit"
   ]
  },
  {
   "cell_type": "code",
   "execution_count": 21,
   "metadata": {},
   "outputs": [],
   "source": [
    "chrom = \"1\"\n",
    "start = 105000000\n",
    "end = start + int(4e6)\n",
    "\n",
    "n_cols = 1472  # total. Should get this from the data somehow\n",
    "n_inds = (n_cols - 2) / 10\n",
    "random.seed(1234)\n",
    "# index of individual that we'll use\n",
    "ind = random.randrange(n_inds)\n",
    "\n",
    "ind_slice = slice(2+10*ind, 2+10*(ind+1))\n",
    "#ind_indexes = list(range(2+10*ind, 2+10*(ind+1)))\n",
    "\n",
    "glf_rows = []\n",
    "genomic_positions = []\n",
    "t0 = timeit.default_timer()\n",
    "with ps.TabixFile('ancient_loglikes_nosex.glf.gz', threads=1) as tbx:\n",
    "    for row in tbx.fetch(chrom, start, end):\n",
    "        elements = row.split(\"\\t\")\n",
    "        glf_rows.append(elements[ind_slice])\n",
    "        genomic_positions.append(int(elements[1]))\n",
    "glf = np.float_(glf_rows)\n",
    "t1 = timeit.default_timer()"
   ]
  },
  {
   "cell_type": "code",
   "execution_count": 22,
   "metadata": {},
   "outputs": [
    {
     "data": {
      "text/plain": [
       "4.768413764948491"
      ]
     },
     "execution_count": 22,
     "metadata": {},
     "output_type": "execute_result"
    }
   ],
   "source": [
    "t1-t0"
   ]
  },
  {
   "cell_type": "code",
   "execution_count": 26,
   "metadata": {},
   "outputs": [
    {
     "data": {
      "text/plain": [
       "(44044, 10)"
      ]
     },
     "execution_count": 26,
     "metadata": {},
     "output_type": "execute_result"
    }
   ],
   "source": [
    "glf.shape"
   ]
  },
  {
   "cell_type": "code",
   "execution_count": 6,
   "metadata": {},
   "outputs": [],
   "source": [
    "mafs = []\n",
    "t0 = timeit.default_timer()\n",
    "with ps.TabixFile(\"loglikes.mafs.gz\", threads=1) as tbx:\n",
    "    for row in tbx.fetch(chrom, start, end):\n",
    "        mafs.append(row.split(\"\\t\"))\n",
    "        genomic_positions.append(int(elements[1]))\n",
    "t1 = timeit.default_timer()"
   ]
  },
  {
   "cell_type": "code",
   "execution_count": 7,
   "metadata": {},
   "outputs": [
    {
     "data": {
      "text/plain": [
       "0.27942642476409674"
      ]
     },
     "execution_count": 7,
     "metadata": {},
     "output_type": "execute_result"
    }
   ],
   "source": [
    "t1-t0"
   ]
  },
  {
   "cell_type": "code",
   "execution_count": 8,
   "metadata": {},
   "outputs": [
    {
     "data": {
      "text/plain": [
       "0.16106812003999949"
      ]
     },
     "execution_count": 8,
     "metadata": {},
     "output_type": "execute_result"
    }
   ],
   "source": [
    "start_time = timeit.default_timer()\n",
    "\n",
    "gl_mat = []\n",
    "#genomic_pos = []\n",
    "#rand_N = random.randint(0,len(N[0])-1)\n",
    "for i, val in enumerate(glf):\n",
    "    if mafs[i][2] == 'A' and mafs[i][3] == 'C' or mafs[i][2] == 'C' and mafs[i][3] == 'A':\n",
    "        gl_mat.append(np.array(operator.itemgetter(0,1,4)(val)))\n",
    "        #genomic_pos.append(glf[i][1])\n",
    "    elif mafs[i][2] == 'A' and mafs[i][3] == 'G' or mafs[i][2] == 'G' and mafs[i][3] == 'A':\n",
    "        gl_mat.append(np.array(operator.itemgetter(0,2,7)(val)))\n",
    "        #genomic_pos.append(glf[i][1])\n",
    "    elif mafs[i][2] == 'A' and mafs[i][3] == 'T' or mafs[i][2] == 'T' and mafs[i][3] == 'A':\n",
    "        gl_mat.append(np.array(operator.itemgetter(0,3,9)(val)))\n",
    "        #genomic_pos.append(glf[i][1])\n",
    "    elif mafs[i][2] == 'C' and mafs[i][3] == 'G' or mafs[i][2] == 'G' and mafs[i][3] == 'C':\n",
    "        gl_mat.append(np.array(operator.itemgetter(4,5,7)(val)))\n",
    "        #genomic_pos.append(glf[i][1])\n",
    "    elif mafs[i][2] == 'C' and mafs[i][3] == 'T' or mafs[i][2] == 'T' and mafs[i][3] == 'C':\n",
    "        gl_mat.append(np.array(operator.itemgetter(4,6,9)(val)))\n",
    "        #genomic_pos.append(glf[i][1])\n",
    "    elif mafs[i][2] == 'G' and mafs[i][3] == 'T' or mafs[i][2] == 'T' and mafs[i][3] == 'G':\n",
    "        gl_mat.append(np.array(operator.itemgetter(7,8,9)(val)))\n",
    "        #genomic_pos.append(glf[i][1])\n",
    "    else:\n",
    "        print('ERROR')\n",
    "\n",
    "elapsed = timeit.default_timer() - start_time\n",
    "elapsed"
   ]
  },
  {
   "cell_type": "code",
   "execution_count": 11,
   "metadata": {},
   "outputs": [
    {
     "data": {
      "text/plain": [
       "64555"
      ]
     },
     "execution_count": 11,
     "metadata": {},
     "output_type": "execute_result"
    }
   ],
   "source": [
    "len(gl_mat)"
   ]
  },
  {
   "cell_type": "code",
   "execution_count": 12,
   "metadata": {},
   "outputs": [
    {
     "data": {
      "text/plain": [
       "[1122, 1123, 1124, 1125, 1126, 1127, 1128, 1129, 1130, 1131]"
      ]
     },
     "execution_count": 12,
     "metadata": {},
     "output_type": "execute_result"
    }
   ],
   "source": [
    "ind_indexes"
   ]
  },
  {
   "cell_type": "code",
   "execution_count": null,
   "metadata": {},
   "outputs": [],
   "source": [
    "def test(region):\n",
    "    \n",
    "    #region = 4e+6\n",
    "    # Chromesome list excluding x and y chromesomes\n",
    "    chr_ = [0,1,2,3,4,5,6,7,8,9,10,11,12,13,14,15,16,17,18,19,20,21]\n",
    "\n",
    "    # Array of number of bp in each crhomesome, from 1 - 22, minus region of choice\n",
    "    chr_bp = np.array((248956422, 242193529, 198295559, 190214555, 181538259,\n",
    "             170805979, 159345973, 145138636, 138394717, 133797422,\n",
    "             135086622, 133275309, 114364328, 107043718, 101991189,\n",
    "             90338345, 83257441, 80373285, 58617616, 64444167,\n",
    "             46709983, 50818468)) - region\n",
    "\n",
    "    # Chooses random chromesome and random starting position for the region\n",
    "    chr_nr = random.randint(0, len(chr_)-1)\n",
    "    start = random.randint(0, chr_bp[chr_nr])\n",
    "    \n",
    "    ind = \n",
    "    \n",
    "    return chr_nr, int(start), int(start+region), "
   ]
  },
  {
   "cell_type": "code",
   "execution_count": 27,
   "metadata": {},
   "outputs": [],
   "source": [
    "chrom = \"1\"\n",
    "start = 105000000\n",
    "end = start + int(4e6)\n",
    "\n",
    "n_cols = 1472  # total. Should get this from the data somehow\n",
    "n_inds = (n_cols - 2) / 10\n",
    "random.seed(1234)\n",
    "# index of individual that we'll use\n",
    "ind = random.randrange(n_inds)\n",
    "\n",
    "ind_slice = slice(2+10*ind, 2+10*(ind+1))\n",
    "#ind_indexes = list(range(2+10*ind, 2+10*(ind+1)))"
   ]
  },
  {
   "cell_type": "code",
   "execution_count": 28,
   "metadata": {},
   "outputs": [],
   "source": [
    "def choose_random(chrom, start, end, ind, glf_file, mafs_file, ind_slice):\n",
    "    \n",
    "    glf_rows = []\n",
    "    genomic_positions = []\n",
    "    t0 = timeit.default_timer()\n",
    "    with ps.TabixFile(glf_file, threads=1) as tbx:\n",
    "        for row in tbx.fetch(chrom, start, end):\n",
    "            elements = row.split(\"\\t\")\n",
    "            glf_rows.append(elements[ind_slice])\n",
    "            genomic_positions.append(int(elements[1]))\n",
    "    glf = np.float_(glf_rows)\n",
    "    \n",
    "    mafs = []\n",
    "    t0 = timeit.default_timer()\n",
    "    with ps.TabixFile(mafs_file, threads=1) as tbx:\n",
    "        for row in tbx.fetch(chrom, start, end):\n",
    "            mafs.append(row.split(\"\\t\"))\n",
    "    \n",
    "    gl_mat = []\n",
    "    for i, val in enumerate(glf):\n",
    "        if mafs[i][2] == 'A' and mafs[i][3] == 'C' or mafs[i][2] == 'C' and mafs[i][3] == 'A':\n",
    "            gl_mat.append(np.array(operator.itemgetter(0,1,4)(val)))\n",
    "            #genomic_pos.append(glf[i][1])\n",
    "        elif mafs[i][2] == 'A' and mafs[i][3] == 'G' or mafs[i][2] == 'G' and mafs[i][3] == 'A':\n",
    "            gl_mat.append(np.array(operator.itemgetter(0,2,7)(val)))\n",
    "            #genomic_pos.append(glf[i][1])\n",
    "        elif mafs[i][2] == 'A' and mafs[i][3] == 'T' or mafs[i][2] == 'T' and mafs[i][3] == 'A':\n",
    "            gl_mat.append(np.array(operator.itemgetter(0,3,9)(val)))\n",
    "            #genomic_pos.append(glf[i][1])\n",
    "        elif mafs[i][2] == 'C' and mafs[i][3] == 'G' or mafs[i][2] == 'G' and mafs[i][3] == 'C':\n",
    "            gl_mat.append(np.array(operator.itemgetter(4,5,7)(val)))\n",
    "            #genomic_pos.append(glf[i][1])\n",
    "        elif mafs[i][2] == 'C' and mafs[i][3] == 'T' or mafs[i][2] == 'T' and mafs[i][3] == 'C':\n",
    "            gl_mat.append(np.array(operator.itemgetter(4,6,9)(val)))\n",
    "            #genomic_pos.append(glf[i][1])\n",
    "        elif mafs[i][2] == 'G' and mafs[i][3] == 'T' or mafs[i][2] == 'T' and mafs[i][3] == 'G':\n",
    "            gl_mat.append(np.array(operator.itemgetter(7,8,9)(val)))\n",
    "            #genomic_pos.append(glf[i][1])\n",
    "        else:\n",
    "            print('ERROR')\n",
    "        \n",
    "    count = 0\n",
    "    for i in gl_mat:\n",
    "        if sum(i) == 0:\n",
    "            count += 1\n",
    "\n",
    "    data_left = len(gl_mat) - count\n",
    "    \n",
    "    return gl_mat, genomic_positions, data_left"
   ]
  },
  {
   "cell_type": "code",
   "execution_count": 29,
   "metadata": {},
   "outputs": [
    {
     "data": {
      "text/plain": [
       "10.690617493004538"
      ]
     },
     "execution_count": 29,
     "metadata": {},
     "output_type": "execute_result"
    }
   ],
   "source": [
    "t0 = timeit.default_timer()\n",
    "gl_mat, genomic_positions, data_left = choose_random(chrom, start, end, ind, 'ancient_loglikes_nosex.glf.gz', \"ancient_loglikes_nosex.mafs.gz\", ind_slice)\n",
    "t1 = timeit.default_timer()\n",
    "t1-t0"
   ]
  },
  {
   "cell_type": "code",
   "execution_count": 30,
   "metadata": {},
   "outputs": [],
   "source": [
    "def resize(resize_dim, pos_, gl, region_size):\n",
    "    \n",
    "    m = np.zeros((resize_dim, 3))\n",
    "    for i, pos in enumerate(pos_):\n",
    "        j = int(pos * resize_dim / region_size)\n",
    "        m[j, :] += gl[i]\n",
    "    \n",
    "    return m"
   ]
  },
  {
   "cell_type": "code",
   "execution_count": 31,
   "metadata": {},
   "outputs": [
    {
     "data": {
      "text/plain": [
       "0.21597708301851526"
      ]
     },
     "execution_count": 31,
     "metadata": {},
     "output_type": "execute_result"
    }
   ],
   "source": [
    "t0 = timeit.default_timer()\n",
    "# locates relative genomic positions in region \n",
    "rel_pos = np.asarray(genomic_positions) - start\n",
    "\n",
    "# Resizes input to be a fixed size\n",
    "input_ = resize(128, rel_pos, gl_mat, 4e6)\n",
    "t1 = timeit.default_timer()\n",
    "t1-t0"
   ]
  },
  {
   "cell_type": "code",
   "execution_count": 32,
   "metadata": {},
   "outputs": [],
   "source": [
    "def create_input(chrom, start, end, ind, glf_file, mafs_file, ind_slice, region):\n",
    "    \n",
    "    data_left = 0\n",
    "    threshold = 20\n",
    "    \n",
    "    while data_left < threshold:\n",
    "        gl_mat, genomic_positions, data_left = choose_random(chrom, start, end, ind, glf_file, mafs_file, ind_slice)\n",
    "    \n",
    "    # locates relative genomic positions in region \n",
    "    rel_pos = np.asarray(genomic_positions) - start\n",
    "    \n",
    "    # Resizes input to be a fixed size\n",
    "    input_ = resize(128, rel_pos, gl_mat, region)\n",
    "    \n",
    "    return data_left, input_ "
   ]
  },
  {
   "cell_type": "code",
   "execution_count": 33,
   "metadata": {},
   "outputs": [
    {
     "data": {
      "text/plain": [
       "10.612484298995696"
      ]
     },
     "execution_count": 33,
     "metadata": {},
     "output_type": "execute_result"
    }
   ],
   "source": [
    "t0 = timeit.default_timer()\n",
    "data_left, input_ = create_input(chrom, start, end, ind, 'ancient_loglikes_nosex.glf.gz', \"ancient_loglikes_nosex.mafs.gz\", ind_slice, 4e6)\n",
    "t1 = timeit.default_timer()\n",
    "t1-t0"
   ]
  },
  {
   "cell_type": "code",
   "execution_count": null,
   "metadata": {},
   "outputs": [],
   "source": []
  },
  {
   "cell_type": "code",
   "execution_count": null,
   "metadata": {},
   "outputs": [],
   "source": []
  }
 ],
 "metadata": {
  "kernelspec": {
   "display_name": "Python 3",
   "language": "python",
   "name": "python3"
  },
  "language_info": {
   "codemirror_mode": {
    "name": "ipython",
    "version": 3
   },
   "file_extension": ".py",
   "mimetype": "text/x-python",
   "name": "python",
   "nbconvert_exporter": "python",
   "pygments_lexer": "ipython3",
   "version": "3.7.6"
  }
 },
 "nbformat": 4,
 "nbformat_minor": 4
}
