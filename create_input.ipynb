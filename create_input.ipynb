{
 "cells": [
  {
   "cell_type": "code",
   "execution_count": 1,
   "metadata": {},
   "outputs": [],
   "source": [
    "import pysam as ps\n",
    "import numpy as np\n",
    "import operator\n",
    "import random\n",
    "import timeit"
   ]
  },
  {
   "cell_type": "code",
   "execution_count": 2,
   "metadata": {},
   "outputs": [],
   "source": [
    "tbx_glf = ps.TabixFile(\"loglikes.glf.gz\")\n",
    "tbx_mafs = ps.TabixFile(\"loglikes.mafs.gz\")"
   ]
  },
  {
   "cell_type": "code",
   "execution_count": 22,
   "metadata": {},
   "outputs": [],
   "source": [
    "def resize(resize_dim, pos_, gl, region_size):\n",
    "    \n",
    "    m = np.zeros((resize_dim, 3))\n",
    "    for i, pos in enumerate(pos_):\n",
    "        j = int(pos * resize_dim / region_size)\n",
    "        m[j, :] += gl[i]\n",
    "    \n",
    "    return m"
   ]
  },
  {
   "cell_type": "code",
   "execution_count": 23,
   "metadata": {},
   "outputs": [],
   "source": [
    "def choose_random(region, glf_gz, mafs_gz):\n",
    "    \n",
    "    # Chromesome list excluding x and y chromesomes\n",
    "    chr_ = [0,1,2,3,4,5,6,7,8,9,10,11,12,13,14,15,16,17,18,19,20,21]\n",
    "    \n",
    "    # Array of number of bp in each crhomesome, from 1 - 22, minus region of choice\n",
    "    chr_bp = np.array((248956422, 242193529, 198295559, 190214555, 181538259,\n",
    "             170805979, 159345973, 145138636, 138394717, 133797422,\n",
    "             135086622, 133275309, 114364328, 107043718, 101991189,\n",
    "             90338345, 83257441, 80373285, 58617616, 64444167,\n",
    "             46709983, 50818468)) - region\n",
    "    \n",
    "    # Chooses random chromesome and random starting position for the region\n",
    "    chr_nr = random.randint(0, len(chr_)-1)\n",
    "    start_pos = random.randint(0, chr_bp[chr_nr])\n",
    "    \n",
    "    # Indexing in the gz files via tabix through pysam\n",
    "    glf = []\n",
    "    mafs = []\n",
    "    \n",
    "    for i in glf_gz.fetch(chr_nr+1, start_pos, start_pos+region):\n",
    "         glf.append(i.split('\\t'))\n",
    "            \n",
    "    for i in mafs_gz.fetch(chr_nr+1, start_pos, start_pos+region):\n",
    "         mafs.append(i.split('\\t'))\n",
    "    \n",
    "    # Converts from strings to floats\n",
    "    glf = np.float_(glf)\n",
    "    \n",
    "    # Splits into N individuals\n",
    "    N = []\n",
    "    for i in glf:\n",
    "        N.append(np.array_split(i[2:], (len(i)-2)/10))\n",
    "    \n",
    "    # Looks up the major/minor alleles in the .mafs file and chooses the relevant genotypes likelihoods for\n",
    "    # a random individual, and appends genomic positions to genomic_pos.\n",
    "    gl_mat = []\n",
    "    genomic_pos = []\n",
    "    rand_N = random.randint(0,len(N[0])-1)\n",
    "    for i, val in enumerate(N):\n",
    "        if mafs[i][2] == 'A' and mafs[i][3] == 'C' or mafs[i][2] == 'C' and mafs[i][3] == 'A':\n",
    "            gl_mat.append(np.array(operator.itemgetter(0,1,4)(val[rand_N])))\n",
    "            genomic_pos.append(glf[i][1])\n",
    "        elif mafs[i][2] == 'A' and mafs[i][3] == 'G' or mafs[i][2] == 'G' and mafs[i][3] == 'A':\n",
    "            gl_mat.append(np.array(operator.itemgetter(0,2,7)(val[rand_N])))\n",
    "            genomic_pos.append(glf[i][1])\n",
    "        elif mafs[i][2] == 'A' and mafs[i][3] == 'T' or mafs[i][2] == 'T' and mafs[i][3] == 'A':\n",
    "            gl_mat.append(np.array(operator.itemgetter(0,3,9)(val[rand_N])))\n",
    "            genomic_pos.append(glf[i][1])\n",
    "        elif mafs[i][2] == 'C' and mafs[i][3] == 'G' or mafs[i][2] == 'G' and mafs[i][3] == 'C':\n",
    "            gl_mat.append(np.array(operator.itemgetter(4,5,7)(val[rand_N])))\n",
    "            genomic_pos.append(glf[i][1])\n",
    "        elif mafs[i][2] == 'C' and mafs[i][3] == 'T' or mafs[i][2] == 'T' and mafs[i][3] == 'C':\n",
    "            gl_mat.append(np.array(operator.itemgetter(4,6,9)(val[rand_N])))\n",
    "            genomic_pos.append(glf[i][1])\n",
    "        elif mafs[i][2] == 'G' and mafs[i][3] == 'T' or mafs[i][2] == 'T' and mafs[i][3] == 'G':\n",
    "            gl_mat.append(np.array(operator.itemgetter(7,8,9)(val[rand_N])))\n",
    "            genomic_pos.append(glf[i][1])\n",
    "        else:\n",
    "            print('ERROR')\n",
    "    \n",
    "    count = 0\n",
    "    for i in gl_mat:\n",
    "        if sum(i) == 0:\n",
    "            count += 1\n",
    "    \n",
    "    data_left = len(gl_mat) - count\n",
    "    \n",
    "    return chr_nr, start_pos, gl_mat, genomic_pos, data_left"
   ]
  },
  {
   "cell_type": "code",
   "execution_count": 24,
   "metadata": {},
   "outputs": [],
   "source": [
    "def create_input(region, glf_gz, mafs_gz):\n",
    "    \n",
    "    data_left = 0\n",
    "    threshold = 20\n",
    "    \n",
    "    while data_left < threshold:\n",
    "        chr_nr, start_pos, gl_mat, genomic_pos, data_left = choose_random(region, glf_gz, mafs_gz)\n",
    "    \n",
    "    # locates relative genomic positions in region \n",
    "    rel_pos = np.asarray(genomic_pos) - start_pos\n",
    "    \n",
    "    # Resizes input to be a fixed size\n",
    "    input_ = resize(128, rel_pos, gl_mat, region)\n",
    "    \n",
    "    return data_left, input_"
   ]
  },
  {
   "cell_type": "code",
   "execution_count": 37,
   "metadata": {},
   "outputs": [
    {
     "data": {
      "text/plain": [
       "110.65264114085585"
      ]
     },
     "execution_count": 37,
     "metadata": {},
     "output_type": "execute_result"
    }
   ],
   "source": [
    "start_time = timeit.default_timer()\n",
    "data_left, input_ = create_input(4e+6, tbx_glf, tbx_mafs)\n",
    "elapsed = timeit.default_timer() - start_time\n",
    "elapsed"
   ]
  },
  {
   "cell_type": "code",
   "execution_count": 38,
   "metadata": {},
   "outputs": [
    {
     "data": {
      "text/plain": [
       "1.8442106856809308"
      ]
     },
     "execution_count": 38,
     "metadata": {},
     "output_type": "execute_result"
    }
   ],
   "source": [
    "elapsed/60"
   ]
  },
  {
   "cell_type": "code",
   "execution_count": 39,
   "metadata": {},
   "outputs": [
    {
     "data": {
      "text/plain": [
       "array([[-119.27391 ,  -13.86312 ,  -50.887131],\n",
       "       [ -41.216273,   -8.317872,  -57.33437 ],\n",
       "       [ -33.387484,  -11.783652, -106.104215],\n",
       "       [ -93.715215,   -9.704184,  -24.867919],\n",
       "       [ -59.636955,  -14.556276, -117.201582],\n",
       "       [ -75.294533,  -15.249432, -107.991242],\n",
       "       [ -90.031077,  -19.408368, -142.760277],\n",
       "       [ -59.406696,  -13.169964, -101.544004],\n",
       "       [ -50.426614,   -9.704184,  -67.235486],\n",
       "       [ -17.03913 ,   -4.158936,  -34.07826 ],\n",
       "       [ -34.07826 ,   -6.238404,  -41.907049],\n",
       "       [ -42.597825,   -8.317872,  -58.255403],\n",
       "       [ -49.735838,   -9.011028,  -57.564627],\n",
       "       [ -59.636955,  -10.39734 ,  -67.465744],\n",
       "       [ -84.504874,  -15.249432, -101.544004],\n",
       "       [ -84.504874,  -13.169964,  -75.985309],\n",
       "       [ -59.636955,  -10.39734 ,  -67.465744],\n",
       "       [-134.931488,  -18.022056,  -84.504874],\n",
       "       [-118.583134,  -18.715212, -107.991241],\n",
       "       [ -42.597825,   -9.704184,  -75.985309],\n",
       "       [-110.754345,  -18.715212, -119.27391 ],\n",
       "       [ -50.426614,  -11.783652,  -90.952111],\n",
       "       [ -75.985309,  -13.169964,  -83.123322],\n",
       "       [  -8.519565,   -6.93156 ,  -76.676085],\n",
       "       [ -61.939539,   -9.704184,  -51.11739 ],\n",
       "       [ -67.465744,  -20.303217,  -93.024439],\n",
       "       [ -74.603757,  -13.86312 ,  -93.024439],\n",
       "       [ -59.636955,  -11.090496,  -75.294533],\n",
       "       [ -59.636955,   -8.317872,  -42.597825],\n",
       "       [ -66.084192,  -10.39734 ,  -59.636955],\n",
       "       [ -41.907049,  -14.556276, -134.240712],\n",
       "       [ -58.255403,   -7.624716,  -34.07826 ],\n",
       "       [-100.024844,  -15.942588,  -93.024439],\n",
       "       [ -85.19565 ,  -10.39734 ,  -40.295239],\n",
       "       [ -92.333663,  -14.556276,  -79.208928],\n",
       "       [ -32.5591  ,   -7.624716,  -58.255403],\n",
       "       [ -84.504874,  -13.169964,  -75.064274],\n",
       "       [ -49.275321,  -11.783652,  -91.412629],\n",
       "       [ -51.11739 ,   -9.011028,  -57.540845],\n",
       "       [-100.162452,  -20.996373,  -66.774968],\n",
       "       [ -17.03913 ,   -4.158936,  -33.387484],\n",
       "       [   0.      ,   -1.386312,  -17.03913 ],\n",
       "       [ -85.19565 ,  -11.090496,  -51.11739 ],\n",
       "       [ -75.735334,  -12.476808,  -64.235113],\n",
       "       [   0.      ,   -2.772624,  -33.387484],\n",
       "       [ -49.59823 ,   -6.238404,  -25.558695],\n",
       "       [  -8.519565,   -4.158936,  -42.597825],\n",
       "       [ -41.216273,   -9.704184,  -76.676085],\n",
       "       [ -41.907049,   -6.93156 ,  -42.597825],\n",
       "       [ -25.558695,   -2.772624,   -8.519565],\n",
       "       [-151.279842,  -18.022056,  -67.465744],\n",
       "       [  -7.828789,   -1.386312,   -8.519565],\n",
       "       [ -24.867919,   -6.238404,  -51.11739 ],\n",
       "       [ -41.216273,   -6.238404,  -34.07826 ],\n",
       "       [ -33.848001,   -6.93156 ,  -48.814804],\n",
       "       [ -72.370039,  -11.783652,  -66.774969],\n",
       "       [ -42.597825,   -6.93156 ,  -40.525497],\n",
       "       [ -49.735838,  -11.090496,  -80.63817 ],\n",
       "       [ -32.696708,   -4.158936,  -17.03913 ],\n",
       "       [ -42.597825,   -6.238404,  -34.07826 ],\n",
       "       [ -24.867919,   -6.238404,  -50.426614],\n",
       "       [ -76.676085,   -9.011028,  -34.07826 ],\n",
       "       [ -47.52135 ,   -5.545248,  -30.619828],\n",
       "       [ -41.907049,   -6.93156 ,  -42.597825],\n",
       "       [ -46.457014,   -6.93156 ,  -34.07826 ],\n",
       "       [ -59.636955,  -15.249432, -121.576494],\n",
       "       [ -23.716626,   -6.93156 ,  -59.636955],\n",
       "       [ -49.735838,  -11.090496,  -84.504874],\n",
       "       [ -51.11739 ,   -7.624716,  -37.762396],\n",
       "       [ -50.887131,   -9.011028,  -58.715921],\n",
       "       [ -24.867919,   -2.772624,   -8.519565],\n",
       "       [ -17.03913 ,   -6.238404,  -58.946179],\n",
       "       [ -57.540845,   -8.317872,  -35.869924],\n",
       "       [ -24.867919,   -4.852092,  -33.387484],\n",
       "       [ -42.597825,   -7.624716,  -49.735838],\n",
       "       [   0.      ,   -2.079468,  -25.558695],\n",
       "       [  -8.519565,   -3.46578 ,  -34.07826 ],\n",
       "       [ -41.907049,   -6.238404,  -33.387484],\n",
       "       [ -50.426614,  -11.090496,  -81.511512],\n",
       "       [ -76.676085,  -16.635744, -125.030371],\n",
       "       [ -49.735838,   -9.704184,  -68.15652 ],\n",
       "       [ -93.024439,  -12.476808,  -58.946179],\n",
       "       [ -58.715921,   -9.011028,  -50.196356],\n",
       "       [ -68.15652 ,  -12.476808,  -83.814098],\n",
       "       [-127.102599,  -18.022056,  -93.715215],\n",
       "       [-123.625037,  -25.646772, -183.97655 ],\n",
       "       [ -68.617036,  -15.942588, -114.208222],\n",
       "       [ -50.426614,  -12.476808, -100.162452],\n",
       "       [ -83.123322,  -14.556276,  -93.024439],\n",
       "       [ -73.452465,  -10.39734 ,  -50.426614],\n",
       "       [ -84.274616,  -13.169964,  -75.985309],\n",
       "       [ -68.15652 ,  -13.169964,  -91.642887],\n",
       "       [ -50.426614,  -11.090496,  -83.814098],\n",
       "       [ -25.558695,   -6.238404,  -51.11739 ],\n",
       "       [-124.335043,  -17.3289  ,  -99.329417],\n",
       "       [ -75.294533,  -11.090496,  -58.715921],\n",
       "       [ -57.564627,  -11.783652,  -84.504874],\n",
       "       [ -66.774968,   -9.011028,  -41.907049],\n",
       "       [ -74.603757,  -13.86312 ,  -92.333663],\n",
       "       [ -75.985309,  -11.783652,  -67.465744],\n",
       "       [ -68.15652 ,  -11.783652,  -75.294533],\n",
       "       [ -76.676085,  -15.249432, -110.063569],\n",
       "       [ -41.907049,   -6.238404,  -34.07826 ],\n",
       "       [ -88.649527,  -16.635744, -109.603052],\n",
       "       [-110.063569,  -18.715212, -117.892358],\n",
       "       [-144.141829,  -20.101524, -101.544004],\n",
       "       [-168.088714,  -21.487836,  -90.952111],\n",
       "       [-101.313746,  -20.101524, -136.543296],\n",
       "       [ -76.676085,   -9.011028,  -34.07826 ],\n",
       "       [-100.162452,  -17.3289  , -108.451759],\n",
       "       [-107.300465,  -22.382685,  -75.985309],\n",
       "       [ -83.814098,  -15.942588, -110.063569],\n",
       "       [-152.661394,  -21.487836, -109.372793],\n",
       "       [ -41.907049,   -6.238404,  -34.07826 ],\n",
       "       [ -82.432546,  -23.567304, -202.397232],\n",
       "       [-100.162452,  -11.090496,  -32.926967],\n",
       "       [ -92.333563,  -13.86312 ,  -75.985309],\n",
       "       [ -67.465744,  -13.169964,  -92.333663],\n",
       "       [ -51.11739 ,   -9.704184,  -68.15652 ],\n",
       "       [-211.607573,  -27.72624 , -125.721147],\n",
       "       [ -75.985309,  -12.476808,  -75.985309],\n",
       "       [ -67.465744,   -7.624716,  -23.486367],\n",
       "       [ -92.563922,  -13.86312 ,  -75.294533],\n",
       "       [-109.372794,  -13.169964,  -51.11739 ],\n",
       "       [ -59.636955,  -11.090496,  -76.676085],\n",
       "       [ -76.676085,  -11.783652,  -68.15652 ],\n",
       "       [-108.658235,  -19.408368, -125.583539],\n",
       "       [-101.544004,  -15.249432,  -83.814098]])"
      ]
     },
     "execution_count": 39,
     "metadata": {},
     "output_type": "execute_result"
    }
   ],
   "source": [
    "input_"
   ]
  },
  {
   "cell_type": "code",
   "execution_count": 40,
   "metadata": {},
   "outputs": [
    {
     "data": {
      "text/plain": [
       "2058"
      ]
     },
     "execution_count": 40,
     "metadata": {},
     "output_type": "execute_result"
    }
   ],
   "source": [
    "data_left"
   ]
  },
  {
   "cell_type": "code",
   "execution_count": null,
   "metadata": {},
   "outputs": [],
   "source": []
  }
 ],
 "metadata": {
  "kernelspec": {
   "display_name": "Python 3",
   "language": "python",
   "name": "python3"
  },
  "language_info": {
   "codemirror_mode": {
    "name": "ipython",
    "version": 3
   },
   "file_extension": ".py",
   "mimetype": "text/x-python",
   "name": "python",
   "nbconvert_exporter": "python",
   "pygments_lexer": "ipython3",
   "version": "3.7.6"
  }
 },
 "nbformat": 4,
 "nbformat_minor": 4
}
