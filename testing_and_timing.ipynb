{
 "cells": [
  {
   "cell_type": "code",
   "execution_count": 9,
   "metadata": {},
   "outputs": [],
   "source": [
    "import pysam as ps\n",
    "import numpy as np\n",
    "import operator\n",
    "import random\n",
    "import timeit"
   ]
  },
  {
   "cell_type": "code",
   "execution_count": 10,
   "metadata": {},
   "outputs": [],
   "source": [
    "tbx_glf = ps.TabixFile(\"loglikes.glf.gz\")\n",
    "tbx_mafs = ps.TabixFile(\"loglikes.mafs.gz\")"
   ]
  },
  {
   "cell_type": "code",
   "execution_count": 20,
   "metadata": {},
   "outputs": [
    {
     "data": {
      "text/plain": [
       "0.22321010478772224"
      ]
     },
     "execution_count": 20,
     "metadata": {},
     "output_type": "execute_result"
    }
   ],
   "source": [
    "start_time = timeit.default_timer()\n",
    "\n",
    "region = 4e+6\n",
    "# Chromesome list excluding x and y chromesomes\n",
    "chr_ = [0,1,2,3,4,5,6,7,8,9,10,11,12,13,14,15,16,17,18,19,20,21]\n",
    "\n",
    "# Array of number of bp in each crhomesome, from 1 - 22, minus region of choice\n",
    "chr_bp = np.array((248956422, 242193529, 198295559, 190214555, 181538259,\n",
    "         170805979, 159345973, 145138636, 138394717, 133797422,\n",
    "         135086622, 133275309, 114364328, 107043718, 101991189,\n",
    "         90338345, 83257441, 80373285, 58617616, 64444167,\n",
    "         46709983, 50818468)) - region\n",
    "\n",
    "# Chooses random chromesome and random starting position for the region\n",
    "chr_nr = random.randint(0, len(chr_)-1)\n",
    "start_pos = random.randint(0, chr_bp[chr_nr])\n",
    "\n",
    "# Indexing in the gz files via tabix through pysam\n",
    "glf = []\n",
    "mafs = []\n",
    "\n",
    "for i in tbx_glf.fetch(chr_nr+1, start_pos, start_pos+region):\n",
    "     glf.append(i.split('\\t'))\n",
    "\n",
    "for i in tbx_mafs.fetch(chr_nr+1, start_pos, start_pos+region):\n",
    "     mafs.append(i.split('\\t'))\n",
    "\n",
    "elapsed = timeit.default_timer() - start_time\n",
    "elapsed/60"
   ]
  },
  {
   "cell_type": "code",
   "execution_count": 21,
   "metadata": {},
   "outputs": [
    {
     "data": {
      "text/plain": [
       "0.37521033418985705"
      ]
     },
     "execution_count": 21,
     "metadata": {},
     "output_type": "execute_result"
    }
   ],
   "source": [
    "start_time = timeit.default_timer()\n",
    "\n",
    "glf = np.float_(glf)\n",
    "\n",
    "elapsed = timeit.default_timer() - start_time\n",
    "elapsed/60"
   ]
  },
  {
   "cell_type": "code",
   "execution_count": 22,
   "metadata": {},
   "outputs": [
    {
     "data": {
      "text/plain": [
       "0.9659607757503788"
      ]
     },
     "execution_count": 22,
     "metadata": {},
     "output_type": "execute_result"
    }
   ],
   "source": [
    "start_time = timeit.default_timer()\n",
    "\n",
    "N = []\n",
    "for i in glf:\n",
    "    N.append(np.array_split(i[2:], (len(i)-2)/10))\n",
    "\n",
    "elapsed = timeit.default_timer() - start_time\n",
    "elapsed/60"
   ]
  },
  {
   "cell_type": "code",
   "execution_count": 23,
   "metadata": {},
   "outputs": [
    {
     "data": {
      "text/plain": [
       "0.08047320110102495"
      ]
     },
     "execution_count": 23,
     "metadata": {},
     "output_type": "execute_result"
    }
   ],
   "source": [
    "start_time = timeit.default_timer()\n",
    "\n",
    "gl_mat = []\n",
    "genomic_pos = []\n",
    "rand_N = random.randint(0,len(N[0])-1)\n",
    "for i, val in enumerate(N):\n",
    "    if mafs[i][2] == 'A' and mafs[i][3] == 'C' or mafs[i][2] == 'C' and mafs[i][3] == 'A':\n",
    "        gl_mat.append(np.array(operator.itemgetter(0,1,4)(val[rand_N])))\n",
    "        genomic_pos.append(glf[i][1])\n",
    "    elif mafs[i][2] == 'A' and mafs[i][3] == 'G' or mafs[i][2] == 'G' and mafs[i][3] == 'A':\n",
    "        gl_mat.append(np.array(operator.itemgetter(0,2,7)(val[rand_N])))\n",
    "        genomic_pos.append(glf[i][1])\n",
    "    elif mafs[i][2] == 'A' and mafs[i][3] == 'T' or mafs[i][2] == 'T' and mafs[i][3] == 'A':\n",
    "        gl_mat.append(np.array(operator.itemgetter(0,3,9)(val[rand_N])))\n",
    "        genomic_pos.append(glf[i][1])\n",
    "    elif mafs[i][2] == 'C' and mafs[i][3] == 'G' or mafs[i][2] == 'G' and mafs[i][3] == 'C':\n",
    "        gl_mat.append(np.array(operator.itemgetter(4,5,7)(val[rand_N])))\n",
    "        genomic_pos.append(glf[i][1])\n",
    "    elif mafs[i][2] == 'C' and mafs[i][3] == 'T' or mafs[i][2] == 'T' and mafs[i][3] == 'C':\n",
    "        gl_mat.append(np.array(operator.itemgetter(4,6,9)(val[rand_N])))\n",
    "        genomic_pos.append(glf[i][1])\n",
    "    elif mafs[i][2] == 'G' and mafs[i][3] == 'T' or mafs[i][2] == 'T' and mafs[i][3] == 'G':\n",
    "        gl_mat.append(np.array(operator.itemgetter(7,8,9)(val[rand_N])))\n",
    "        genomic_pos.append(glf[i][1])\n",
    "    else:\n",
    "        print('ERROR')\n",
    "\n",
    "elapsed = timeit.default_timer() - start_time\n",
    "elapsed/60"
   ]
  },
  {
   "cell_type": "code",
   "execution_count": null,
   "metadata": {},
   "outputs": [],
   "source": []
  }
 ],
 "metadata": {
  "kernelspec": {
   "display_name": "Python 3",
   "language": "python",
   "name": "python3"
  },
  "language_info": {
   "codemirror_mode": {
    "name": "ipython",
    "version": 3
   },
   "file_extension": ".py",
   "mimetype": "text/x-python",
   "name": "python",
   "nbconvert_exporter": "python",
   "pygments_lexer": "ipython3",
   "version": "3.7.6"
  }
 },
 "nbformat": 4,
 "nbformat_minor": 4
}
